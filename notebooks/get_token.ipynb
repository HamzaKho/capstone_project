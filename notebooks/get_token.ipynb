{
 "cells": [
  {
   "cell_type": "code",
   "execution_count": 1,
   "metadata": {},
   "outputs": [],
   "source": [
    "from dotenv import load_dotenv\n",
    "import os"
   ]
  },
  {
   "cell_type": "code",
   "execution_count": 2,
   "metadata": {},
   "outputs": [
    {
     "data": {
      "text/plain": [
       "True"
      ]
     },
     "execution_count": 2,
     "metadata": {},
     "output_type": "execute_result"
    }
   ],
   "source": [
    "load_dotenv()"
   ]
  },
  {
   "cell_type": "code",
   "execution_count": 3,
   "metadata": {},
   "outputs": [],
   "source": [
    "client_id = os.getenv(\"CLIENT_ID\")\n",
    "client_secret = os.getenv(\"CLIENT_SECRET\")"
   ]
  },
  {
   "cell_type": "code",
   "execution_count": 4,
   "metadata": {},
   "outputs": [
    {
     "name": "stdout",
     "output_type": "stream",
     "text": [
      "b8a15f98a1fb40778cd5dc869699bf93 5f7cb13b2ac6453ca214d3a045ff105d\n"
     ]
    }
   ],
   "source": [
    "print(client_id, client_secret)"
   ]
  },
  {
   "cell_type": "code",
   "execution_count": 15,
   "metadata": {},
   "outputs": [],
   "source": [
    "import base64\n",
    "from requests import post, get\n",
    "import json"
   ]
  },
  {
   "cell_type": "markdown",
   "metadata": {},
   "source": [
    "#### Function to get the auth token from spotify using `client_id` and `client_secret`"
   ]
  },
  {
   "cell_type": "code",
   "execution_count": 6,
   "metadata": {},
   "outputs": [],
   "source": [
    "def get_token():\n",
    "    auth_string = client_id + ':' + client_secret\n",
    "    auth_bytes = auth_string.encode(\"utf-8\")\n",
    "    auth_base64 = str(base64.b64encode(auth_bytes), \"utf-8\")\n",
    "    \n",
    "    url = \"https://accounts.spotify.com/api/token\"\n",
    "    headers = {\n",
    "        \"Authorization\":\"Basic \" + auth_base64,\n",
    "        \"Content-Type\":\"application/x-www-form-urlencoded\",\n",
    "    }\n",
    "    data = {\"grant_type\":\"client_credentials\"}\n",
    "    result = post(url, headers=headers, data=data)\n",
    "    json_result = json.loads(result.content)\n",
    "    token = json_result['access_token']\n",
    "    return token"
   ]
  },
  {
   "cell_type": "code",
   "execution_count": 7,
   "metadata": {},
   "outputs": [],
   "source": [
    "token = get_token()"
   ]
  },
  {
   "cell_type": "code",
   "execution_count": 8,
   "metadata": {},
   "outputs": [
    {
     "name": "stdout",
     "output_type": "stream",
     "text": [
      "BQByYQue810ADMpcnu4qHxtD-49dG-NT5RuXnRpx-gk6PbWOXjvcULZIHFudJ5ZEmTvXkgn3gsfCz3Y2KUwa7RiWSJ0O_mvkSiTjlqMpNOrHEszhobM\n"
     ]
    }
   ],
   "source": [
    "print(token)"
   ]
  },
  {
   "cell_type": "code",
   "execution_count": 9,
   "metadata": {},
   "outputs": [],
   "source": [
    "def get_auth_header(token):\n",
    "    return {\"Authorization\": \"Bearer \"+token}"
   ]
  },
  {
   "cell_type": "code",
   "execution_count": 16,
   "metadata": {},
   "outputs": [],
   "source": [
    "def get_track_details(token, track_id):\n",
    "    url = \"https://api.spotify.com/v1/tracks/\"\n",
    "    headers = get_auth_header(token)\n",
    "    response = get(url + track_id, headers=headers)\n",
    "    return(response.content)\n",
    "    "
   ]
  },
  {
   "cell_type": "code",
   "execution_count": 17,
   "metadata": {},
   "outputs": [
    {
     "name": "stdout",
     "output_type": "stream",
     "text": [
      "b'{\"album\":{\"album_type\":\"album\",\"artists\":[{\"external_urls\":{\"spotify\":\"https://open.spotify.com/artist/4MCBfE4596Uoi2O4DtmEMz\"},\"href\":\"https://api.spotify.com/v1/artists/4MCBfE4596Uoi2O4DtmEMz\",\"id\":\"4MCBfE4596Uoi2O4DtmEMz\",\"name\":\"Juice WRLD\",\"type\":\"artist\",\"uri\":\"spotify:artist:4MCBfE4596Uoi2O4DtmEMz\"}],\"available_markets\":[\"AR\",\"AU\",\"AT\",\"BE\",\"BO\",\"BR\",\"BG\",\"CA\",\"CL\",\"CO\",\"CR\",\"CY\",\"CZ\",\"DK\",\"DO\",\"DE\",\"EC\",\"EE\",\"SV\",\"FI\",\"FR\",\"GR\",\"GT\",\"HN\",\"HK\",\"HU\",\"IS\",\"IE\",\"IT\",\"LV\",\"LT\",\"LU\",\"MY\",\"MT\",\"MX\",\"NL\",\"NZ\",\"NI\",\"NO\",\"PA\",\"PY\",\"PE\",\"PH\",\"PL\",\"PT\",\"SG\",\"SK\",\"ES\",\"SE\",\"CH\",\"TW\",\"TR\",\"UY\",\"US\",\"GB\",\"AD\",\"LI\",\"MC\",\"ID\",\"JP\",\"TH\",\"VN\",\"RO\",\"IL\",\"ZA\",\"SA\",\"AE\",\"BH\",\"QA\",\"OM\",\"KW\",\"EG\",\"MA\",\"DZ\",\"TN\",\"LB\",\"JO\",\"PS\",\"IN\",\"KZ\",\"MD\",\"UA\",\"AL\",\"BA\",\"HR\",\"ME\",\"MK\",\"RS\",\"SI\",\"KR\",\"BD\",\"PK\",\"LK\",\"GH\",\"KE\",\"NG\",\"TZ\",\"UG\",\"AG\",\"AM\",\"BS\",\"BB\",\"BZ\",\"BT\",\"BW\",\"BF\",\"CV\",\"CW\",\"DM\",\"FJ\",\"GM\",\"GE\",\"GD\",\"GW\",\"GY\",\"HT\",\"JM\",\"KI\",\"LS\",\"LR\",\"MW\",\"MV\",\"ML\",\"MH\",\"FM\",\"NA\",\"NR\",\"NE\",\"PW\",\"PG\",\"WS\",\"SM\",\"ST\",\"SN\",\"SC\",\"SL\",\"SB\",\"KN\",\"LC\",\"VC\",\"SR\",\"TL\",\"TO\",\"TT\",\"TV\",\"VU\",\"AZ\",\"BN\",\"BI\",\"KH\",\"CM\",\"TD\",\"KM\",\"GQ\",\"SZ\",\"GA\",\"GN\",\"KG\",\"LA\",\"MO\",\"MR\",\"MN\",\"NP\",\"RW\",\"TG\",\"UZ\",\"ZW\",\"BJ\",\"MG\",\"MU\",\"MZ\",\"AO\",\"CI\",\"DJ\",\"ZM\",\"CD\",\"CG\",\"IQ\",\"LY\",\"TJ\",\"VE\",\"ET\",\"XK\"],\"external_urls\":{\"spotify\":\"https://open.spotify.com/album/7kOpqRCEqTTzcGc4CwEFph\"},\"href\":\"https://api.spotify.com/v1/albums/7kOpqRCEqTTzcGc4CwEFph\",\"id\":\"7kOpqRCEqTTzcGc4CwEFph\",\"images\":[{\"url\":\"https://i.scdn.co/image/ab67616d0000b273c435ae51e1d314f3ecea02a0\",\"width\":640,\"height\":640},{\"url\":\"https://i.scdn.co/image/ab67616d00001e02c435ae51e1d314f3ecea02a0\",\"width\":300,\"height\":300},{\"url\":\"https://i.scdn.co/image/ab67616d00004851c435ae51e1d314f3ecea02a0\",\"width\":64,\"height\":64}],\"name\":\"The Party Never Ends 2.0\",\"release_date\":\"2024-11-30\",\"release_date_precision\":\"day\",\"total_tracks\":19,\"type\":\"album\",\"uri\":\"spotify:album:7kOpqRCEqTTzcGc4CwEFph\"},\"artists\":[{\"external_urls\":{\"spotify\":\"https://open.spotify.com/artist/4MCBfE4596Uoi2O4DtmEMz\"},\"href\":\"https://api.spotify.com/v1/artists/4MCBfE4596Uoi2O4DtmEMz\",\"id\":\"4MCBfE4596Uoi2O4DtmEMz\",\"name\":\"Juice WRLD\",\"type\":\"artist\",\"uri\":\"spotify:artist:4MCBfE4596Uoi2O4DtmEMz\"}],\"available_markets\":[\"AR\",\"AU\",\"AT\",\"BE\",\"BO\",\"BR\",\"BG\",\"CA\",\"CL\",\"CO\",\"CR\",\"CY\",\"CZ\",\"DK\",\"DO\",\"DE\",\"EC\",\"EE\",\"SV\",\"FI\",\"FR\",\"GR\",\"GT\",\"HN\",\"HK\",\"HU\",\"IS\",\"IE\",\"IT\",\"LV\",\"LT\",\"LU\",\"MY\",\"MT\",\"MX\",\"NL\",\"NZ\",\"NI\",\"NO\",\"PA\",\"PY\",\"PE\",\"PH\",\"PL\",\"PT\",\"SG\",\"SK\",\"ES\",\"SE\",\"CH\",\"TW\",\"TR\",\"UY\",\"US\",\"GB\",\"AD\",\"LI\",\"MC\",\"ID\",\"JP\",\"TH\",\"VN\",\"RO\",\"IL\",\"ZA\",\"SA\",\"AE\",\"BH\",\"QA\",\"OM\",\"KW\",\"EG\",\"MA\",\"DZ\",\"TN\",\"LB\",\"JO\",\"PS\",\"IN\",\"KZ\",\"MD\",\"UA\",\"AL\",\"BA\",\"HR\",\"ME\",\"MK\",\"RS\",\"SI\",\"KR\",\"BD\",\"PK\",\"LK\",\"GH\",\"KE\",\"NG\",\"TZ\",\"UG\",\"AG\",\"AM\",\"BS\",\"BB\",\"BZ\",\"BT\",\"BW\",\"BF\",\"CV\",\"CW\",\"DM\",\"FJ\",\"GM\",\"GE\",\"GD\",\"GW\",\"GY\",\"HT\",\"JM\",\"KI\",\"LS\",\"LR\",\"MW\",\"MV\",\"ML\",\"MH\",\"FM\",\"NA\",\"NR\",\"NE\",\"PW\",\"PG\",\"WS\",\"SM\",\"ST\",\"SN\",\"SC\",\"SL\",\"SB\",\"KN\",\"LC\",\"VC\",\"SR\",\"TL\",\"TO\",\"TT\",\"TV\",\"VU\",\"AZ\",\"BN\",\"BI\",\"KH\",\"CM\",\"TD\",\"KM\",\"GQ\",\"SZ\",\"GA\",\"GN\",\"KG\",\"LA\",\"MO\",\"MR\",\"MN\",\"NP\",\"RW\",\"TG\",\"UZ\",\"ZW\",\"BJ\",\"MG\",\"MU\",\"MZ\",\"AO\",\"CI\",\"DJ\",\"ZM\",\"CD\",\"CG\",\"IQ\",\"LY\",\"TJ\",\"VE\",\"ET\",\"XK\"],\"disc_number\":1,\"duration_ms\":244093,\"explicit\":true,\"external_ids\":{\"isrc\":\"USUG12407307\"},\"external_urls\":{\"spotify\":\"https://open.spotify.com/track/4Y5IZAa51QUdIuX0VvSe7v\"},\"href\":\"https://api.spotify.com/v1/tracks/4Y5IZAa51QUdIuX0VvSe7v\",\"id\":\"4Y5IZAa51QUdIuX0VvSe7v\",\"is_local\":false,\"name\":\"Cuffed\",\"popularity\":69,\"preview_url\":null,\"track_number\":5,\"type\":\"track\",\"uri\":\"spotify:track:4Y5IZAa51QUdIuX0VvSe7v\"}'\n"
     ]
    }
   ],
   "source": [
    "print(get_track_details(token, \"4Y5IZAa51QUdIuX0VvSe7v\"))"
   ]
  }
 ],
 "metadata": {
  "kernelspec": {
   "display_name": ".venv",
   "language": "python",
   "name": "python3"
  },
  "language_info": {
   "codemirror_mode": {
    "name": "ipython",
    "version": 3
   },
   "file_extension": ".py",
   "mimetype": "text/x-python",
   "name": "python",
   "nbconvert_exporter": "python",
   "pygments_lexer": "ipython3",
   "version": "3.11.9"
  }
 },
 "nbformat": 4,
 "nbformat_minor": 2
}
