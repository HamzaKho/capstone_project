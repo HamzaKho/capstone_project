{
 "cells": [
  {
   "cell_type": "code",
   "execution_count": 11,
   "metadata": {},
   "outputs": [],
   "source": [
    "API_KEY = \"4bfd24cf3b2e591c5246a66c832ce9d6\"\n",
    "BASE_URL = \"http://ws.audioscrobbler.com/2.0/\"\n",
    "API_SECRET = \"2020b233790a14f8433e32628ecfa78c\""
   ]
  },
  {
   "cell_type": "code",
   "execution_count": 12,
   "metadata": {},
   "outputs": [],
   "source": [
    "import requests\n",
    "import hashlib"
   ]
  },
  {
   "cell_type": "code",
   "execution_count": 13,
   "metadata": {},
   "outputs": [],
   "source": [
    "def generate_signature(params):\n",
    "    \"\"\"\n",
    "    Generate API signature by concatenating sorted params and appending API_SECRET.\n",
    "    \"\"\"\n",
    "    # Concatenate parameters in alphabetical order\n",
    "    signature_string = \"\".join(f\"{key}{value}\" for key, value in sorted(params.items()))\n",
    "    # Append API_SECRET to the string\n",
    "    signature_string += API_SECRET\n",
    "    # Return the MD5 hash\n",
    "    return hashlib.md5(signature_string.encode(\"utf-8\")).hexdigest()"
   ]
  },
  {
   "cell_type": "code",
   "execution_count": 14,
   "metadata": {},
   "outputs": [],
   "source": [
    "def get_token():\n",
    "    \"\"\"\n",
    "    Request an authentication token from Last.fm with a signed API call.\n",
    "    \"\"\"\n",
    "    # Define the parameters for the request\n",
    "    params = {\n",
    "        \"method\": \"auth.getToken\",\n",
    "        \"api_key\": API_KEY,\n",
    "    }\n",
    "\n",
    "    # Generate the API signature\n",
    "    params[\"api_sig\"] = generate_signature(params)\n",
    "    params[\"format\"] = \"json\"  # Add format separately as it is not part of the signature\n",
    "\n",
    "    # Make the request\n",
    "    response = requests.get(BASE_URL, params=params)\n",
    "\n",
    "    if response.status_code == 200:\n",
    "        data = response.json()\n",
    "        return data[\"token\"]\n",
    "    else:\n",
    "        raise Exception(f\"Error getting token: {response.status_code}, {response.text}\")\n"
   ]
  },
  {
   "cell_type": "code",
   "execution_count": 31,
   "metadata": {},
   "outputs": [
    {
     "name": "stdout",
     "output_type": "stream",
     "text": [
      "Token: KN-1jTI3iBKzS-QJWrxZ3kVDSR9a2FoS\n"
     ]
    }
   ],
   "source": [
    "# Example usage\n",
    "token = get_token()\n",
    "print(f\"Token: {token}\")"
   ]
  },
  {
   "cell_type": "code",
   "execution_count": 16,
   "metadata": {},
   "outputs": [],
   "source": [
    "def get_artist_info(artist_name):\n",
    "    params = {\n",
    "        \"method\": \"artist.getinfo\",  # API method\n",
    "        \"artist\": artist_name,       # Artist name to search\n",
    "        \"api_key\": API_KEY,          # Your Last.fm API key\n",
    "        \"format\": \"json\"             # Response format\n",
    "    }\n",
    "\n",
    "    # Make the request\n",
    "    response = requests.get(BASE_URL, params=params)\n",
    "\n",
    "    # Check for successful response\n",
    "    if response.status_code == 200:\n",
    "        data = response.json()\n",
    "        if \"artist\" in data:\n",
    "            return data[\"artist\"]\n",
    "        else:\n",
    "            return f\"Error: {data.get('message', 'Unknown error')}\"\n",
    "    else:\n",
    "        return f\"HTTP Error: {response.status_code}\""
   ]
  },
  {
   "cell_type": "code",
   "execution_count": 17,
   "metadata": {},
   "outputs": [
    {
     "name": "stdout",
     "output_type": "stream",
     "text": [
      "Artist: Coldplay\n",
      "Listeners: 7842785\n",
      "Playcount: 604595777\n"
     ]
    }
   ],
   "source": [
    "artist_name = \"Coldplay\"\n",
    "artist_info = get_artist_info(artist_name)\n",
    "\n",
    "if isinstance(artist_info, dict):\n",
    "    print(f\"Artist: {artist_info['name']}\")\n",
    "    print(f\"Listeners: {artist_info['stats']['listeners']}\")\n",
    "    print(f\"Playcount: {artist_info['stats']['playcount']}\")\n",
    "else:\n",
    "    print(artist_info)"
   ]
  },
  {
   "cell_type": "code",
   "execution_count": 39,
   "metadata": {},
   "outputs": [],
   "source": [
    "def get_top_tracks_by_country(country_code, token):\n",
    "    \"\"\"\n",
    "    Get the top 50 tracks from a specified country using the Last.fm API.\n",
    "\n",
    "    Args:\n",
    "        country_code (str): ISO 3166-1 alpha-2 country code (e.g., \"US\" for United States).\n",
    "        token (str): Authorized token obtained from Last.fm authentication.\n",
    "\n",
    "    Returns:\n",
    "        list: A list of dictionaries containing the rank, track name, artist, and playcount.\n",
    "    \"\"\"\n",
    "    # Define the parameters for the request\n",
    "    params = {\n",
    "        \"method\": \"geo.gettoptracks\",\n",
    "        \"country\": country_code,\n",
    "        \"api_key\": API_KEY,\n",
    "        \"token\": token,\n",
    "        \"limit\": 50,  # Maximum number of tracks\n",
    "    }\n",
    "\n",
    "    # Generate the API signature\n",
    "    params[\"api_sig\"] = generate_signature(params)\n",
    "    params[\"format\"] = \"xml\"  # Request XML response format\n",
    "\n",
    "    # Make the request\n",
    "    response = requests.get(BASE_URL, params=params)\n",
    "\n",
    "    if response.status_code == 200:\n",
    "        from xml.etree import ElementTree as ET\n",
    "\n",
    "        # Parse the XML response\n",
    "        root = ET.fromstring(response.content)\n",
    "        tracks = []\n",
    "\n",
    "        for track in root.findall(\"track\"):\n",
    "            print('hi')\n",
    "            tracks.append({\n",
    "                \"rank\": track.get(\"rank\"),\n",
    "                \"name\": track.find(\"name\").text,\n",
    "                \"artist\": track.find(\"artist/name\").text,\n",
    "                \"playcount\": track.find(\"playcount\").text,\n",
    "                \"url\": track.find(\"url\").text\n",
    "            })\n",
    "\n",
    "        return tracks\n",
    "    else:\n",
    "        raise Exception(f\"Error getting top tracks: {response.status_code}, {response.text}\")\n"
   ]
  },
  {
   "cell_type": "code",
   "execution_count": 40,
   "metadata": {},
   "outputs": [
    {
     "name": "stdout",
     "output_type": "stream",
     "text": [
      "[]\n"
     ]
    }
   ],
   "source": [
    "try:\n",
    "    country_code = \"Brazil\"\n",
    "    top_tracks = get_top_tracks_by_country(country_code, token)\n",
    "    print(top_tracks)\n",
    "    for i, track in enumerate(top_tracks, start=1):\n",
    "        print(f\"{i}. {track['name']} by {track['artist']}\")\n",
    "except Exception as e:\n",
    "    print(e)"
   ]
  }
 ],
 "metadata": {
  "kernelspec": {
   "display_name": ".venv",
   "language": "python",
   "name": "python3"
  },
  "language_info": {
   "codemirror_mode": {
    "name": "ipython",
    "version": 3
   },
   "file_extension": ".py",
   "mimetype": "text/x-python",
   "name": "python",
   "nbconvert_exporter": "python",
   "pygments_lexer": "ipython3",
   "version": "3.11.9"
  }
 },
 "nbformat": 4,
 "nbformat_minor": 2
}
